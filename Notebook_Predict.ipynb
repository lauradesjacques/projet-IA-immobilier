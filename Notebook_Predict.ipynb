{
 "cells": [
  {
   "attachments": {},
   "cell_type": "markdown",
   "id": "1df56c87",
   "metadata": {},
   "source": [
    "<div style=\"display:flex; justify-content: center; background-color: #8038DB\">\n",
    "<h1 style=\"margin:auto;padding: 25px;\">\n",
    "Protocole d'utilisation du modèle pour faire des prédictions\n",
    "</h1>\n",
    "</div>"
   ]
  }
 ],
 "metadata": {
  "kernelspec": {
   "display_name": "Python 3",
   "language": "python",
   "name": "python3"
  },
  "language_info": {
   "codemirror_mode": {
    "name": "ipython",
    "version": 3
   },
   "file_extension": ".py",
   "mimetype": "text/x-python",
   "name": "python",
   "nbconvert_exporter": "python",
   "pygments_lexer": "ipython3",
   "version": "3.8.12 (default, Nov  2 2022, 14:04:04) \n[GCC 11.3.0]"
  },
  "toc": {
   "base_numbering": 1,
   "nav_menu": {},
   "number_sections": true,
   "sideBar": true,
   "skip_h1_title": false,
   "title_cell": "Table of Contents",
   "title_sidebar": "Contents",
   "toc_cell": false,
   "toc_position": {},
   "toc_section_display": true,
   "toc_window_display": false
  },
  "vscode": {
   "interpreter": {
    "hash": "89eecbff76814fa600c72739058c65e71fe9647b7358503804b5dfe16a1317ba"
   }
  }
 },
 "nbformat": 4,
 "nbformat_minor": 5
}
