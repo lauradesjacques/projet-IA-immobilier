{
 "cells": [
  {
   "attachments": {},
   "cell_type": "markdown",
   "id": "1df56c87",
   "metadata": {},
   "source": [
    "<div style=\"display:flex; justify-content: center; background-color: #8038DB\">\n",
    "<h1 style=\"margin:auto;padding: 25px;\">\n",
    "Protocole d'utilisation du modèle pour faire des prédictions\n",
    "</h1>\n",
    "</div>"
   ]
  }
 ],
 "metadata": {
  "kernelspec": {
   "display_name": "simplon",
   "language": "python",
   "name": "python3"
  },
  "language_info": {
   "codemirror_mode": {
    "name": "ipython",
    "version": 3
   },
   "file_extension": ".py",
   "mimetype": "text/x-python",
   "name": "python",
   "nbconvert_exporter": "python",
   "pygments_lexer": "ipython3",
   "version": "3.10.6 (main, Dec  9 2022, 22:50:33) [Clang 13.1.6 (clang-1316.0.21.2)]"
  },
  "toc": {
   "base_numbering": 1,
   "nav_menu": {},
   "number_sections": true,
   "sideBar": true,
   "skip_h1_title": false,
   "title_cell": "Table of Contents",
   "title_sidebar": "Contents",
   "toc_cell": false,
   "toc_position": {},
   "toc_section_display": true,
   "toc_window_display": false
  },
  "vscode": {
   "interpreter": {
    "hash": "c47cc341fd10ac20f45abd4b1cfa42139d503df422b79453175cef9fc704d4cf"
   }
  }
 },
 "nbformat": 4,
 "nbformat_minor": 5
}
