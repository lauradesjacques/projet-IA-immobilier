{
 "cells": [
  {
   "cell_type": "markdown",
   "id": "6cf961dc",
   "metadata": {},
   "source": [
    "<div style=\"display:flex; justify-content: center; background-color: #8038DB\">\n",
    "<h1 style=\"margin:auto; padding: 25px;\">\n",
    "Procédure pour trouver un modele adapté\n",
    "</h1>\n",
    "</div>"
   ]
  },
  {
   "cell_type": "code",
   "execution_count": 95,
   "id": "e8a111f6",
   "metadata": {},
   "outputs": [],
   "source": [
    "import numpy as np\n",
    "import pandas as pd\n",
    "import matplotlib.pyplot as plt\n",
    "import seaborn as sns\n",
    "\n",
    "from sklearn.model_selection import train_test_split\n",
    "from sklearn.model_selection import cross_validate\n",
    "from sklearn.model_selection import cross_val_score\n",
    "from sklearn.model_selection import cross_val_predict\n",
    "\n",
    "from sklearn.dummy import DummyRegressor\n",
    "from sklearn.linear_model import LinearRegression\n",
    "from sklearn.discriminant_analysis import LinearDiscriminantAnalysis\n",
    "from sklearn.model_selection import learning_curve\n",
    "\n",
    "from sklearn.linear_model import SGDRegressor\n",
    "from sklearn.metrics import mean_absolute_error\n",
    "from sklearn.tree import DecisionTreeRegressor\n",
    "from sklearn.preprocessing import StandardScaler\n",
    "\n",
    "from sklearn.inspection import permutation_importance\n",
    "from sklearn.impute import SimpleImputer\n",
    "#import warnings\n",
    "#warnings.simplefilter(action=\"ignore\")"
   ]
  },
  {
   "cell_type": "code",
   "execution_count": 297,
   "id": "4bb27f42",
   "metadata": {},
   "outputs": [],
   "source": [
    "df1 = pd.read_csv(\"./data/train1.csv\")"
   ]
  },
  {
   "cell_type": "code",
   "execution_count": 24,
   "id": "40886b26",
   "metadata": {},
   "outputs": [
    {
     "name": "stdout",
     "output_type": "stream",
     "text": [
      "<class 'pandas.core.frame.DataFrame'>\n",
      "RangeIndex: 16512 entries, 0 to 16511\n",
      "Data columns (total 12 columns):\n",
      " #   Column              Non-Null Count  Dtype  \n",
      "---  ------              --------------  -----  \n",
      " 0   Unnamed: 0.1        16512 non-null  int64  \n",
      " 1   Unnamed: 0          16512 non-null  float64\n",
      " 2   longitude           16512 non-null  float64\n",
      " 3   latitude            16512 non-null  float64\n",
      " 4   housing_median_age  16512 non-null  float64\n",
      " 5   total_rooms         16512 non-null  float64\n",
      " 6   total_bedrooms      16512 non-null  float64\n",
      " 7   population          16512 non-null  float64\n",
      " 8   households          16512 non-null  float64\n",
      " 9   median_income       16512 non-null  float64\n",
      " 10  median_house_value  16512 non-null  float64\n",
      " 11  blue_near           16512 non-null  float64\n",
      "dtypes: float64(11), int64(1)\n",
      "memory usage: 1.5 MB\n"
     ]
    }
   ],
   "source": [
    "df1.info()"
   ]
  },
  {
   "cell_type": "markdown",
   "id": "ad2d5e82",
   "metadata": {},
   "source": [
    "<div style=\"display:flex; justify-content: center; \">\n",
    "<h2 style=\"margin:auto; padding: 20px; color: #8038DB\">\n",
    "Dummy Model\n",
    "</h2>\n",
    "</div>"
   ]
  },
  {
   "cell_type": "code",
   "execution_count": 25,
   "id": "0aeb0ae8",
   "metadata": {},
   "outputs": [],
   "source": [
    "y = df1[\"median_house_value\"]\n",
    "X = df1.drop(\"median_house_value\", axis=1)"
   ]
  },
  {
   "cell_type": "code",
   "execution_count": 26,
   "id": "72d4e8ef",
   "metadata": {},
   "outputs": [],
   "source": [
    "X_train, X_test, y_train, y_test = train_test_split(X, y, \n",
    "                                                    test_size=.3, \n",
    "                                                    random_state=1)"
   ]
  },
  {
   "cell_type": "code",
   "execution_count": 27,
   "id": "16dd6065",
   "metadata": {},
   "outputs": [
    {
     "data": {
      "text/plain": [
       "-0.00036290962536944527"
      ]
     },
     "execution_count": 27,
     "metadata": {},
     "output_type": "execute_result"
    }
   ],
   "source": [
    "dummy_reg = DummyRegressor(strategy=\"mean\")\n",
    "\n",
    "# fit the modem\n",
    "dummy_reg.fit(X_train, y_train)\n",
    "\n",
    "# calculate the score\n",
    "dummy_reg.score(X_test, y_test)"
   ]
  },
  {
   "cell_type": "markdown",
   "id": "9446b42a",
   "metadata": {},
   "source": [
    "<div style=\"display:flex; justify-content: center; \">\n",
    "<h2 style=\"margin:auto; padding: 20px; color: #8038DB\">\n",
    "Linear Regression\n",
    "</h2>\n",
    "</div>\n"
   ]
  },
  {
   "cell_type": "code",
   "execution_count": 29,
   "id": "7b1496be",
   "metadata": {},
   "outputs": [],
   "source": [
    "y = df1[\"median_house_value\"]\n",
    "X = df1.drop(\"median_house_value\", axis=1)"
   ]
  },
  {
   "cell_type": "code",
   "execution_count": 273,
   "id": "09a68c42",
   "metadata": {},
   "outputs": [],
   "source": [
    "X_train, X_test, y_train, y_test = train_test_split(X, y, \n",
    "                                                    test_size=.3, \n",
    "                                                    random_state=1) "
   ]
  },
  {
   "cell_type": "code",
   "execution_count": 274,
   "id": "906c4b05",
   "metadata": {},
   "outputs": [
    {
     "data": {
      "text/plain": [
       "0.6324436794975469"
      ]
     },
     "execution_count": 274,
     "metadata": {},
     "output_type": "execute_result"
    }
   ],
   "source": [
    "linear_reg = LinearRegression()\n",
    "\n",
    "linear_reg.fit(X_train, y_train)\n",
    "\n",
    "# calculate the score\n",
    "linear_reg.score(X_test, y_test)"
   ]
  },
  {
   "cell_type": "markdown",
   "id": "2c1112cc",
   "metadata": {},
   "source": [
    "<div style=\"display:flex; justify-content: center; \">\n",
    "<h2 style=\"margin:auto; padding: 20px; color: #8038DB\">\n",
    "Linear regression + Scale \n",
    "</h2>\n",
    "</div>"
   ]
  },
  {
   "cell_type": "code",
   "execution_count": 289,
   "id": "8102ce3d",
   "metadata": {},
   "outputs": [],
   "source": [
    "# drop column \n",
    "df3= df1.drop([\"Unnamed: 0.1\", \"Unnamed: 0\"], axis=1)"
   ]
  },
  {
   "cell_type": "code",
   "execution_count": 284,
   "id": "2c987eb9",
   "metadata": {},
   "outputs": [],
   "source": [
    "Y_train = df3[\"median_house_value\"]\n",
    "X_train = df3.drop([\"median_house_value\"],axis=1)"
   ]
  },
  {
   "cell_type": "code",
   "execution_count": 290,
   "id": "ce3250a7",
   "metadata": {},
   "outputs": [],
   "source": [
    "X_train_rl, X_test_rl, y_train_rl, y_test_rl = train_test_split(X_train, Y_train, test_size=0.3, random_state=1)"
   ]
  },
  {
   "cell_type": "code",
   "execution_count": 291,
   "id": "40009e84",
   "metadata": {},
   "outputs": [],
   "source": [
    "y_train_rl = y_train_rl.values.reshape(-1,1)\n",
    "y_test_rl = y_test_rl.values.reshape(-1,1)"
   ]
  },
  {
   "cell_type": "code",
   "execution_count": 292,
   "id": "cac275d0",
   "metadata": {},
   "outputs": [],
   "source": [
    "sc = StandardScaler()\n",
    "X_train_rl = sc.fit_transform(X_train_rl)\n",
    "X_test_rl = sc.fit_transform(X_test_rl)\n",
    "y_train_rl = sc.fit_transform(y_train_rl)\n",
    "y_test_rl = sc.fit_transform(y_test_rl)"
   ]
  },
  {
   "cell_type": "code",
   "execution_count": 293,
   "id": "f5dc2520",
   "metadata": {},
   "outputs": [
    {
     "data": {
      "text/plain": [
       "0.6383224347152039"
      ]
     },
     "execution_count": 293,
     "metadata": {},
     "output_type": "execute_result"
    }
   ],
   "source": [
    "lm = LinearRegression()\n",
    "lm.fit(X_train_rl,y_train_rl)\n",
    "lm.score(X_train_rl,y_train_rl)"
   ]
  },
  {
   "cell_type": "code",
   "execution_count": 294,
   "id": "9aef2cf1",
   "metadata": {},
   "outputs": [
    {
     "name": "stdout",
     "output_type": "stream",
     "text": [
      "Intercept : [1.92898986e-15]\n",
      "Coefficients : [[-0.74414253 -0.78843823  0.12221086 -0.13017075  0.27829932 -0.36496766\n",
      "   0.25575564  0.66021315 -0.01088267]]\n",
      "R² du modèle : 0.64\n"
     ]
    }
   ],
   "source": [
    "print(\"Intercept :\",lm.intercept_)\n",
    "print(\"Coefficients :\",lm.coef_)\n",
    "print(\"R² du modèle :\",round(lm.score(X_train_rl,y_train_rl),2))"
   ]
  },
  {
   "cell_type": "code",
   "execution_count": 295,
   "id": "cfbc3721",
   "metadata": {},
   "outputs": [],
   "source": [
    "def metrics_timeseries(y_true, y_pred):\n",
    "    y_true, y_pred = np.array(y_true), np.array(y_pred)\n",
    "    diff = y_true - y_pred\n",
    "    mae = np.mean(abs(diff))\n",
    "    mse = np.mean(diff**2)\n",
    "    rmse = np.sqrt(mse)\n",
    "    mape = np.mean(np.abs(diff / y_true)) * 100\n",
    "    dict_metrics = {\"Métrique\":[\"MAE\", \"MSE\", \"RMSE\", \"MAPE\"], \"Résultats\":[mae, mse, rmse, mape]}\n",
    "    df_metrics = pd.DataFrame(dict_metrics)\n",
    "    return df_metrics"
   ]
  },
  {
   "cell_type": "code",
   "execution_count": 296,
   "id": "2535c6d6",
   "metadata": {},
   "outputs": [
    {
     "data": {
      "text/html": [
       "<div>\n",
       "<style scoped>\n",
       "    .dataframe tbody tr th:only-of-type {\n",
       "        vertical-align: middle;\n",
       "    }\n",
       "\n",
       "    .dataframe tbody tr th {\n",
       "        vertical-align: top;\n",
       "    }\n",
       "\n",
       "    .dataframe thead th {\n",
       "        text-align: right;\n",
       "    }\n",
       "</style>\n",
       "<table border=\"1\" class=\"dataframe\">\n",
       "  <thead>\n",
       "    <tr style=\"text-align: right;\">\n",
       "      <th></th>\n",
       "      <th>Métrique</th>\n",
       "      <th>Résultats</th>\n",
       "    </tr>\n",
       "  </thead>\n",
       "  <tbody>\n",
       "    <tr>\n",
       "      <th>0</th>\n",
       "      <td>MAE</td>\n",
       "      <td>0.442740</td>\n",
       "    </tr>\n",
       "    <tr>\n",
       "      <th>1</th>\n",
       "      <td>MSE</td>\n",
       "      <td>0.367435</td>\n",
       "    </tr>\n",
       "    <tr>\n",
       "      <th>2</th>\n",
       "      <td>RMSE</td>\n",
       "      <td>0.606165</td>\n",
       "    </tr>\n",
       "    <tr>\n",
       "      <th>3</th>\n",
       "      <td>MAPE</td>\n",
       "      <td>292.679153</td>\n",
       "    </tr>\n",
       "  </tbody>\n",
       "</table>\n",
       "</div>"
      ],
      "text/plain": [
       "  Métrique   Résultats\n",
       "0      MAE    0.442740\n",
       "1      MSE    0.367435\n",
       "2     RMSE    0.606165\n",
       "3     MAPE  292.679153"
      ]
     },
     "execution_count": 296,
     "metadata": {},
     "output_type": "execute_result"
    }
   ],
   "source": [
    "metrics_rl = metrics_timeseries(y_test_rl, pred_rl)\n",
    "metrics_rl"
   ]
  },
  {
   "cell_type": "markdown",
   "id": "54ab8f37",
   "metadata": {},
   "source": [
    "<div style=\"display:flex; justify-content: center; \">\n",
    "<h2 style=\"margin:auto; padding: 20px; color: #8038DB\">\n",
    "Decision Tree \n",
    "</h2>\n",
    "</div>"
   ]
  },
  {
   "cell_type": "code",
   "execution_count": 278,
   "id": "de5f3d0a",
   "metadata": {},
   "outputs": [
    {
     "name": "stdout",
     "output_type": "stream",
     "text": [
      "Validation MAE: 45,594\n"
     ]
    }
   ],
   "source": [
    "# Target\n",
    "y = df3[\"median_house_value\"]\n",
    "\n",
    "# X\n",
    "X = df3.drop(\"median_house_value\", axis=1)\n",
    "\n",
    "# Split \n",
    "train_X, val_X, train_y, val_y = train_test_split(X, y,random_state=1)\n",
    "model = DecisionTreeRegressor(random_state=1)\n",
    "\n",
    "# Fit Model\n",
    "model.fit(train_X, train_y)\n",
    "model\n",
    "\n",
    "# validation predictions and mean absolute error\n",
    "val_predictions = model.predict(val_X)\n",
    "val_mae = mean_absolute_error(val_predictions, val_y)\n",
    "print(\"Validation MAE: {:,.0f}\".format(val_mae))"
   ]
  },
  {
   "cell_type": "code",
   "execution_count": 283,
   "id": "8b35078f",
   "metadata": {},
   "outputs": [
    {
     "data": {
      "text/plain": [
       "0.9022093267270508"
      ]
     },
     "execution_count": 283,
     "metadata": {},
     "output_type": "execute_result"
    }
   ],
   "source": [
    "model.score(X,y)"
   ]
  }
 ],
 "metadata": {
  "kernelspec": {
   "display_name": "Python 3 (ipykernel)",
   "language": "python",
   "name": "python3"
  },
  "language_info": {
   "codemirror_mode": {
    "name": "ipython",
    "version": 3
   },
   "file_extension": ".py",
   "mimetype": "text/x-python",
   "name": "python",
   "nbconvert_exporter": "python",
   "pygments_lexer": "ipython3",
   "version": "3.8.12"
  },
  "toc": {
   "base_numbering": 1,
   "nav_menu": {},
   "number_sections": true,
   "sideBar": true,
   "skip_h1_title": false,
   "title_cell": "Table of Contents",
   "title_sidebar": "Contents",
   "toc_cell": false,
   "toc_position": {},
   "toc_section_display": true,
   "toc_window_display": false
  },
  "vscode": {
   "interpreter": {
    "hash": "89eecbff76814fa600c72739058c65e71fe9647b7358503804b5dfe16a1317ba"
   }
  }
 },
 "nbformat": 4,
 "nbformat_minor": 5
}
